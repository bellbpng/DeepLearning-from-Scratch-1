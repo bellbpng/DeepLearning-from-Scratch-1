{
 "cells": [
  {
   "cell_type": "code",
   "execution_count": 20,
   "metadata": {},
   "outputs": [
    {
     "data": {
      "image/png": "[encoded data removed]",
      "text/plain": [
       "<matplotlib.figure.Figure at 0x1fb52f385f8>"
      ]
     },
     "metadata": {},
     "output_type": "display_data"
    },
    {
     "data": {
      "image/png": "[encoded data removed]",
      "text/plain": [
       "<matplotlib.figure.Figure at 0x1fb52f38518>"
      ]
     },
     "metadata": {},
     "output_type": "display_data"
    },
    {
     "data": {
      "image/png": "[encoded data removed]",
      "text/plain": [
       "<matplotlib.figure.Figure at 0x1fb2f479240>"
      ]
     },
     "metadata": {},
     "output_type": "display_data"
    }
   ],
   "source": [
    "# coding: utf-8\n",
    "import numpy as np\n",
    "import matplotlib.pyplot as plt\n",
    "\n",
    "\n",
    "def sigmoid(x):\n",
    "    return 1 / (1 + np.exp(-x))\n",
    "\n",
    "\n",
    "def ReLU(x):\n",
    "    return np.maximum(0, x)\n",
    "\n",
    "\n",
    "def tanh(x):\n",
    "    return np.tanh(x)\n",
    "    \n",
    "input_data = np.random.randn(1000, 100)  # 1000개의 데이터\n",
    "node_num = 100  # 각 은닉층의 노드(뉴런) 수\n",
    "hidden_layer_size = 5  # 은닉층이 5개\n",
    "# 이곳에 활성화 결과를 저장\n",
    "activations1 = {}  \n",
    "activations2 = {}\n",
    "activations3 = {}\n",
    "activations4 = {}\n",
    "\n",
    "x = input_data\n",
    "\n",
    "for i in range(hidden_layer_size):\n",
    "    if i != 0:\n",
    "        x = activations1[i-1]       \n",
    "        x = activations2[i-1]        \n",
    "        x = activations3[i-1]\n",
    "        x = activations4[i-1]\n",
    "\n",
    "    # 초깃값을 다양하게 바꿔가며 실험해보자！\n",
    "    # 표준편차가 1인 정규분포\n",
    "    w1 = np.random.randn(node_num, node_num) * 1\n",
    "\n",
    "    # 표준편차가 0.01인 정규분포 \n",
    "    w2 = np.random.randn(node_num, node_num) * 0.01\n",
    "\n",
    "    # Xavier 초깃값 \n",
    "    w3 = np.random.randn(node_num, node_num) * np.sqrt(1.0 / node_num) \n",
    "\n",
    "    # He 초깃값(ReLU에 특화된 초기값)\n",
    "    w4 = np.random.randn(node_num, node_num) * np.sqrt(2.0 / node_num)\n",
    "\n",
    "\n",
    "    a1 = np.dot(x, w1)\n",
    "    a2 = np.dot(x, w2)\n",
    "    a3 = np.dot(x, w3)\n",
    "    a4 = np.dot(x, w4)\n",
    "\n",
    "\n",
    "    # 활성화 함수도 바꿔가며 실험해보자！\n",
    "    # z = sigmoid(a)\n",
    "    z1 = ReLU(a1)\n",
    "    z2 = ReLU(a2)\n",
    "    z3 = ReLU(a3)\n",
    "    z4 = ReLU(a4)\n",
    "    # z = tanh(a)\n",
    "\n",
    "    activations1[i] = z1\n",
    "    activations2[i] = z2\n",
    "    activations3[i] = z3\n",
    "    activations4[i] = z4\n",
    "\n",
    "# 히스토그램 그리기\n",
    "# for i, a1 in activations1.items():\n",
    "#     plt.subplot(1, len(activations1), i+1)\n",
    "#     plt.title(str(i+1) + \"-layer\")\n",
    "#     if i != 0: plt.yticks([], [])\n",
    "#     plt.xlim(0.1, 1)\n",
    "#     plt.ylim(0, 7000)\n",
    "#     plt.hist(a1.flatten(), 20, range=(0,1))\n",
    "# plt.show()\n",
    "\n",
    "for i, a2 in activations2.items():\n",
    "    plt.subplot(1, len(activations2), i+1)\n",
    "    plt.title(str(i+1) + \"-layer\")\n",
    "    if i != 0: plt.yticks([], [])\n",
    "    plt.xlim(0.1, 1)\n",
    "    plt.ylim(0, 7000)\n",
    "    plt.hist(a2.flatten(), 30, range=(0,1))\n",
    "plt.show()\n",
    "\n",
    "for i, a3 in activations3.items():\n",
    "    plt.subplot(1, len(activations3), i+1)\n",
    "    plt.title(str(i+1) + \"-layer\")\n",
    "    if i != 0: plt.yticks([], [])\n",
    "    plt.xlim(0.1, 1)\n",
    "    plt.ylim(0, 7000)\n",
    "    plt.hist(a3.flatten(), 15, range=(0,1))\n",
    "plt.show()\n",
    "\n",
    "for i, a4 in activations4.items():\n",
    "    plt.subplot(1, len(activations4), i+1)\n",
    "    plt.title(str(i+1) + \"-layer\")\n",
    "    if i != 0: plt.yticks([], [])\n",
    "    plt.xlim(0.1, 1)\n",
    "    plt.ylim(0, 7000)\n",
    "    plt.hist(a4.flatten(), 30, range=(0,1))\n",
    "plt.show()\n"
   ]
  },
  {
   "cell_type": "code",
   "execution_count": null,
   "metadata": {
    "collapsed": true
   },
   "outputs": [],
   "source": []
  }
 ],
 "metadata": {
  "kernelspec": {
   "display_name": "Python 3",
   "language": "python",
   "name": "python3"
  },
  "language_info": {
   "codemirror_mode": {
    "name": "ipython",
    "version": 3
   },
   "file_extension": ".py",
   "mimetype": "text/x-python",
   "name": "python",
   "nbconvert_exporter": "python",
   "pygments_lexer": "ipython3",
   "version": "3.6.2"
  }
 },
 "nbformat": 4,
 "nbformat_minor": 2
}
