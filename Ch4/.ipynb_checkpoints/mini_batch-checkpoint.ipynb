{
 "cells": [
  {
   "cell_type": "code",
   "execution_count": 5,
   "metadata": {},
   "outputs": [
    {
     "name": "stdout",
     "output_type": "stream",
     "text": [
      "(60000, 784)\n",
      "(60000, 10)\n"
     ]
    },
    {
     "data": {
      "text/plain": [
       "'\\nnp.log(y[np.arange(batch_size_entropy), t])에 대한 설명\\n- np.arange(batch_size)는 0부터 (batch_size_entropy-1) 까지 1간격으로 배열을 생성한다.\\n- if batch_size_entropy == 5 then [0, 1, 2, 3, 4]\\n- t 에는 [2,7,0,9,4]와 같이 레이블이 담겨있으므로, \\n- y[np.arange(batch_size_entropy), t]는 각 데이터의 정답 레이블에 해당하는 신경망의 출력을 추출한다.\\n- 위의 예에서는 y[0,2], y[1,7], y[2,0], y[3,9], y[4,4]인 넘파이 배열이 형성된다.\\n'"
      ]
     },
     "execution_count": 5,
     "metadata": {},
     "output_type": "execute_result"
    }
   ],
   "source": [
    "#MNIST 데이터셋을 읽어오는 코드\n",
    "import sys, os\n",
    "sys.path.append(os.pardir)\n",
    "import numpy as np\n",
    "from dataset.mnist import load_mnist\n",
    "\n",
    "(x_train, t_train), (x_test, t_test) = \\\n",
    "    load_mnist(normalize=True, one_hot_label=True)\n",
    "    \n",
    "print(x_train.shape) #60000행, 784열의 훈련데이터\n",
    "print(t_train.shape) #60000행, 10열의 훈련 정답레이블\n",
    "#훈련 데이터와는 다르게 10줄짜리 데이터이므로, 훈련데이터에서 무작위로 10장을 추출한다.\n",
    "\n",
    "train_size = x_train.shape[0] #60000개의 데이터\n",
    "batch_size = 10\n",
    "batch_mask = np.random.choice(train_size, batch_size) #(60000,10) 0이상 60000미만 수 중 10개를 무작위로 추출\n",
    "x_batch = x_train[batch_mask]\n",
    "t_batch = t_train[batch_mask]\n",
    "\n",
    "#배치용 교차엔트로피 구현\n",
    "def cross_entropy_error(y,t):\n",
    "    if y.ndim==1 : # y가 1줄짜리 데이터라면(행의 개수가 1)\n",
    "        t = t.reshape(1, t.size) #size는 전체 원소의 개수를 반환한다.\n",
    "        y = y.reshape(1, y.size)\n",
    "    batch_size_entropy = y.shape[0] #y의 행의개수(데이터의 개수)\n",
    "    return -np.sum(t*np.log(y+1e-7))/batch_size_entropy\n",
    "\n",
    "#정답레이블이 원-핫 인코딩이 아닌 경우 배치용 교차엔트로피\n",
    "def cross_entropy_error2(y,t):\n",
    "    if y.ndim == 1:\n",
    "        t = t.reshape(1, t.size)\n",
    "        y = y.reshape(1, y.size)\n",
    "    \n",
    "    batch_size_entropy = y.shape[0]\n",
    "    return -np.sum(np.log(y[np.arange(batch_size_entropy),t] + 1e-7)) / batch_size_entropy\n",
    "\n",
    "\n",
    "'''\n",
    "np.log(y[np.arange(batch_size_entropy), t])에 대한 설명\n",
    "- np.arange(batch_size)는 0부터 (batch_size_entropy-1) 까지 1간격으로 배열을 생성한다.\n",
    "- if batch_size_entropy == 5 then [0, 1, 2, 3, 4]\n",
    "- t 에는 [2,7,0,9,4]와 같이 레이블이 담겨있으므로, \n",
    "- y[np.arange(batch_size_entropy), t]는 각 데이터의 정답 레이블에 해당하는 신경망의 출력을 추출한다.\n",
    "- 위의 예에서는 y[0,2], y[1,7], y[2,0], y[3,9], y[4,4]인 넘파이 배열이 형성된다.\n",
    "'''\n"
   ]
  },
  {
   "cell_type": "code",
   "execution_count": null,
   "metadata": {
    "collapsed": true
   },
   "outputs": [],
   "source": []
  }
 ],
 "metadata": {
  "kernelspec": {
   "display_name": "Python 3",
   "language": "python",
   "name": "python3"
  },
  "language_info": {
   "codemirror_mode": {
    "name": "ipython",
    "version": 3
   },
   "file_extension": ".py",
   "mimetype": "text/x-python",
   "name": "python",
   "nbconvert_exporter": "python",
   "pygments_lexer": "ipython3",
   "version": "3.6.2"
  }
 },
 "nbformat": 4,
 "nbformat_minor": 2
}
