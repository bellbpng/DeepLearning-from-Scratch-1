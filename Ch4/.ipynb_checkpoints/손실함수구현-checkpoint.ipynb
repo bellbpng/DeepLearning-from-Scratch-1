{
 "cells": [
  {
   "cell_type": "code",
   "execution_count": 1,
   "metadata": {},
   "outputs": [
    {
     "name": "stderr",
     "output_type": "stream",
     "text": [
      "C:\\Users\\김보경\\AppData\\Local\\conda\\conda\\envs\\venv\\lib\\site-packages\\numpy\\_distributor_init.py:32: UserWarning: loaded more than 1 DLL from .libs:\n",
      "C:\\Users\\김보경\\AppData\\Local\\conda\\conda\\envs\\venv\\lib\\site-packages\\numpy\\.libs\\libopenblas.NOIJJG62EMASZI6NYURL6JBKM4EVBGM7.gfortran-win_amd64.dll\n",
      "C:\\Users\\김보경\\AppData\\Local\\conda\\conda\\envs\\venv\\lib\\site-packages\\numpy\\.libs\\libopenblas.PYQHXLVVQ7VESDPUVUADXEVJOBGHJPAY.gfortran-win_amd64.dll\n",
      "  stacklevel=1)\n"
     ]
    }
   ],
   "source": [
    "import numpy as np\n",
    "\n",
    "#오차제곱합 sum of squares for error\n",
    "def sum_squares_error(y,t):\n",
    "    return 0.5*np.sum((y-t)**2)\n",
    "\n",
    "#교차엔트로피오차 cross_entropy_error(y,t)\n",
    "#one-hot-encoding으로 이루어진 데이터인 경우 정답일 때의 추정(t=1일때, y)만을 반영하게 됨\n",
    "def cross_entropy_error(y,t):\n",
    "    delta = 1e-7 #0.0000001, 아주 작은 값을 더해서 log 함수에 0이 들어가는 것을 방지\n",
    "    return -np.sum(t*np.log(y+delta))\n"
   ]
  },
  {
   "cell_type": "code",
   "execution_count": null,
   "metadata": {
    "collapsed": true
   },
   "outputs": [],
   "source": []
  }
 ],
 "metadata": {
  "kernelspec": {
   "display_name": "Python 3",
   "language": "python",
   "name": "python3"
  },
  "language_info": {
   "codemirror_mode": {
    "name": "ipython",
    "version": 3
   },
   "file_extension": ".py",
   "mimetype": "text/x-python",
   "name": "python",
   "nbconvert_exporter": "python",
   "pygments_lexer": "ipython3",
   "version": "3.6.2"
  }
 },
 "nbformat": 4,
 "nbformat_minor": 2
}
