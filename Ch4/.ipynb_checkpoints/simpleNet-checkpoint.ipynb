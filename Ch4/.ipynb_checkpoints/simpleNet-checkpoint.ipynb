{
 "cells": [
  {
   "cell_type": "code",
   "execution_count": 1,
   "metadata": {},
   "outputs": [
    {
     "name": "stdout",
     "output_type": "stream",
     "text": [
      "가중치 값\n",
      "[[-1.54096482 -0.34601323  0.84812516]\n",
      " [-1.18755713  0.16768275  1.17048646]]\n",
      "\n",
      "예측값\n",
      "[-1.99338031 -0.05669346  1.56231291]\n",
      "\n",
      "최대값 인덱스\n",
      "2\n",
      "\n",
      "손실함수 값\n",
      "0.20429246264208026\n",
      "\n",
      "수치미분 결과\n",
      "[[ 0.01397044  0.09689526 -0.1108657 ]\n",
      " [ 0.02095566  0.14534289 -0.16629855]]\n"
     ]
    },
    {
     "name": "stderr",
     "output_type": "stream",
     "text": [
      "C:\\Users\\김보경\\AppData\\Local\\conda\\conda\\envs\\venv\\lib\\site-packages\\numpy\\_distributor_init.py:32: UserWarning: loaded more than 1 DLL from .libs:\n",
      "C:\\Users\\김보경\\AppData\\Local\\conda\\conda\\envs\\venv\\lib\\site-packages\\numpy\\.libs\\libopenblas.NOIJJG62EMASZI6NYURL6JBKM4EVBGM7.gfortran-win_amd64.dll\n",
      "C:\\Users\\김보경\\AppData\\Local\\conda\\conda\\envs\\venv\\lib\\site-packages\\numpy\\.libs\\libopenblas.PYQHXLVVQ7VESDPUVUADXEVJOBGHJPAY.gfortran-win_amd64.dll\n",
      "  stacklevel=1)\n"
     ]
    }
   ],
   "source": [
    "import sys, os\n",
    "sys.path.append(os.pardir)\n",
    "import numpy as np\n",
    "from common.functions import softmax, cross_entropy_error\n",
    "from common.gradient import numerical_gradient\n",
    "\n",
    "# 신경망 구성 for 가중치 설정, 예측, 손실함수 값 계산\n",
    "class simpleNet:\n",
    "    def __init__(self):\n",
    "        self.W = np.random.randn(2,3)\n",
    "\n",
    "    def predict(self, x):\n",
    "        return np.dot(x, self.W)\n",
    "\n",
    "    def loss(self, x, t): # x는 입력데이터, t는 정답레이블\n",
    "        z = self.predict(x)\n",
    "        y = softmax(z)\n",
    "        loss = cross_entropy_error(y, t)\n",
    "\n",
    "        return loss\n",
    "\n",
    "net = simpleNet()\n",
    "print(\"가중치 값\")\n",
    "print(net.W)\n",
    "print()\n",
    "\n",
    "x = np.array([0.6, 0.9])\n",
    "p = net.predict(x)\n",
    "print(\"예측값\")\n",
    "print(p)\n",
    "print()\n",
    "\n",
    "print(\"최대값 인덱스\") # 최대값의 인덱스\n",
    "print(np.argmax(p))\n",
    "print()\n",
    "\n",
    "t = np.array([0, 0, 1])\n",
    "print(\"손실함수 값\")\n",
    "print(net.loss(x,t))\n",
    "print()\n",
    "\n",
    "'''\n",
    "def f(w):\n",
    "    return net.loss(x,t)\n",
    "'''\n",
    "\n",
    "#람다(lambda) 표현식으로 재구현\n",
    "f = lambda w: net.loss(x,t) \n",
    "dW = numerical_gradient(f, net.W) # 신경망(net)의 가중치를 함수 f의 인수로 받아 수치미분을 진행한다. \n",
    "\n",
    "print(\"수치미분 결과\")\n",
    "print(dW)\n",
    "\n"
   ]
  },
  {
   "cell_type": "code",
   "execution_count": null,
   "metadata": {
    "collapsed": true
   },
   "outputs": [],
   "source": []
  }
 ],
 "metadata": {
  "kernelspec": {
   "display_name": "Python 3",
   "language": "python",
   "name": "python3"
  },
  "language_info": {
   "codemirror_mode": {
    "name": "ipython",
    "version": 3
   },
   "file_extension": ".py",
   "mimetype": "text/x-python",
   "name": "python",
   "nbconvert_exporter": "python",
   "pygments_lexer": "ipython3",
   "version": "3.6.2"
  }
 },
 "nbformat": 4,
 "nbformat_minor": 2
}
