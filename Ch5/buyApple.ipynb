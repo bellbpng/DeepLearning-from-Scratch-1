{
 "cells": [
  {
   "cell_type": "code",
   "execution_count": 1,
   "metadata": {},
   "outputs": [
    {
     "name": "stdout",
     "output_type": "stream",
     "text": [
      "총 지출:  220.00000000000003\n",
      "사과 가격에 대한 미분:  2.2\n",
      "사과 개수에 대한 미분:  110.00000000000001\n",
      "소비세에 대한 미분:  200\n"
     ]
    }
   ],
   "source": [
    "class MulLayer:\n",
    "    def __init__(self):\n",
    "        self.x = None\n",
    "        self.y = None\n",
    "    \n",
    "    def forward(self, x, y):\n",
    "        self.x = x\n",
    "        self.y = y\n",
    "        out = x*y\n",
    "\n",
    "        return out\n",
    "\n",
    "    def backward(self, dout):\n",
    "        dx = dout*self.y\n",
    "        dy = dout*self.x\n",
    "\n",
    "        return dx, dy\n",
    "\n",
    "apple = 100\n",
    "apple_num = 2\n",
    "tax = 1.1\n",
    "\n",
    "#계층 구현\n",
    "apple_layer = MulLayer()\n",
    "tax_layer = MulLayer()\n",
    "\n",
    "#forward propagation\n",
    "apple_price = apple_layer.forward(apple, apple_num)\n",
    "price = tax_layer.forward(apple_price, tax)\n",
    "\n",
    "print(\"총 지출: \", price)\n",
    "\n",
    "#backward propagation\n",
    "dprice = 1\n",
    "dapple_price, dtax = tax_layer.backward(dprice)\n",
    "dapple, dapple_num = apple_layer.backward(dapple_price)\n",
    "\n",
    "print(\"사과 가격에 대한 미분: \", dapple)\n",
    "print(\"사과 개수에 대한 미분: \", dapple_num)\n",
    "print(\"소비세에 대한 미분: \", dtax)\n"
   ]
  },
  {
   "cell_type": "code",
   "execution_count": null,
   "metadata": {
    "collapsed": true
   },
   "outputs": [],
   "source": []
  }
 ],
 "metadata": {
  "kernelspec": {
   "display_name": "Python 3",
   "language": "python",
   "name": "python3"
  },
  "language_info": {
   "codemirror_mode": {
    "name": "ipython",
    "version": 3
   },
   "file_extension": ".py",
   "mimetype": "text/x-python",
   "name": "python",
   "nbconvert_exporter": "python",
   "pygments_lexer": "ipython3",
   "version": "3.6.2"
  }
 },
 "nbformat": 4,
 "nbformat_minor": 2
}
