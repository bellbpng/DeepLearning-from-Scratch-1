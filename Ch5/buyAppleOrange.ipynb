{
 "cells": [
  {
   "cell_type": "code",
   "execution_count": 5,
   "metadata": {},
   "outputs": [
    {
     "name": "stdout",
     "output_type": "stream",
     "text": [
      "사과 가격:  200\n",
      "귤 가격:  450\n",
      "순수 과일 가격:  650\n",
      "총 지출: 715\n",
      "사과의 개수에 대한 미분: 110\n",
      "사과 가격에 대한 미분:  2.2\n",
      "귤의 개수에 대한 미분: 165\n",
      "귤 가격에 대한 미분: 3\n",
      "소비세에 대한 미분:  650\n"
     ]
    }
   ],
   "source": [
    "class MulLayer:\n",
    "    def __init__(self):\n",
    "        self.x = None\n",
    "        self.y = None\n",
    "    \n",
    "    def forward(self, x, y):\n",
    "        self.x = x\n",
    "        self.y = y\n",
    "        out = x*y\n",
    "\n",
    "        return out\n",
    "\n",
    "    def backward(self, dout):\n",
    "        dx = dout*self.y\n",
    "        dy = dout*self.x\n",
    "\n",
    "        return dx, dy\n",
    "\n",
    "class AddLayer:\n",
    "    def __init__(self):\n",
    "        pass\n",
    "\n",
    "    def forward(self, x, y):\n",
    "        out = x+y\n",
    "        return out\n",
    "\n",
    "    def backward(self, dout):\n",
    "        dx = dout*1\n",
    "        dy = dout*1\n",
    "\n",
    "        return dx,dy\n",
    "\n",
    "apple = 100\n",
    "apple_num = 2\n",
    "orange = 150\n",
    "orange_num = 3\n",
    "tax = 1.1\n",
    "\n",
    "#계층 설정\n",
    "apple_layer = MulLayer()\n",
    "orange_layer = MulLayer()\n",
    "add_layer = AddLayer()\n",
    "tax_layer = MulLayer()\n",
    "\n",
    "#forward propagation\n",
    "apple_price = apple_layer.forward(apple_num, apple)\n",
    "orange_price = orange_layer.forward(orange, orange_num)\n",
    "fruit_price = add_layer.forward(apple_price, orange_price)\n",
    "price = tax_layer.forward(fruit_price, tax)\n",
    "\n",
    "print(\"사과 가격: \", apple_price)\n",
    "print(\"귤 가격: \", orange_price)\n",
    "print(\"순수 과일 가격: \", fruit_price)\n",
    "print(\"총 지출: {:.0f}\".format(price))\n",
    "\n",
    "#backward propagation\n",
    "dprice = 1\n",
    "dfruit_price, dtax = tax_layer.backward(dprice)\n",
    "dapple_price, dorange_price = add_layer.backward(dfruit_price)\n",
    "dapple_num, dapple = apple_layer.backward(dapple_price)\n",
    "dorange, dorange_num = orange_layer.backward(dorange_price)\n",
    "\n",
    "print(\"사과의 개수에 대한 미분: {:.0f}\".format(dapple_num))\n",
    "print(\"사과 가격에 대한 미분: \", dapple)\n",
    "print(\"귤의 개수에 대한 미분: {:.0f}\".format(dorange_num))\n",
    "print(\"귤 가격에 대한 미분: {:.0f}\".format(dorange))\n",
    "print(\"소비세에 대한 미분: \", dtax)\n"
   ]
  },
  {
   "cell_type": "code",
   "execution_count": null,
   "metadata": {
    "collapsed": true
   },
   "outputs": [],
   "source": []
  }
 ],
 "metadata": {
  "kernelspec": {
   "display_name": "Python 3",
   "language": "python",
   "name": "python3"
  },
  "language_info": {
   "codemirror_mode": {
    "name": "ipython",
    "version": 3
   },
   "file_extension": ".py",
   "mimetype": "text/x-python",
   "name": "python",
   "nbconvert_exporter": "python",
   "pygments_lexer": "ipython3",
   "version": "3.6.2"
  }
 },
 "nbformat": 4,
 "nbformat_minor": 2
}
